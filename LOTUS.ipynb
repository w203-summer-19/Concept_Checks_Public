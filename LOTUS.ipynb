{
 "cells": [
  {
   "cell_type": "markdown",
   "metadata": {},
   "source": [
    "## Expectation of a Function\n",
    "\n",
    "Your startup applies for three contracts.  Let random variable $C$ represent the number of contracts you win.  $C$ has probability mass function $p$ with,\n",
    "\n",
    "$$p(x) = \\begin{cases}\n",
    "0.4, &x=0\\\\\n",
    "0.3, &x=1\\\\\n",
    "0.2, &x=2\\\\\n",
    "0.1, &x=3\\\\\n",
    "0, &otherwise\n",
    "\\end{cases}$$\n",
    "\n",
    "The possible outcomes and probabilities could be stored in R as follows:"
   ]
  },
  {
   "cell_type": "code",
   "execution_count": 3,
   "metadata": {},
   "outputs": [],
   "source": [
    "contracts = c(0,1,2,3)\n",
    "p = c(0.4,0.3,0.2,0.1)"
   ]
  },
  {
   "cell_type": "markdown",
   "metadata": {},
   "source": [
    "Use R to compute $E(C)$"
   ]
  },
  {
   "cell_type": "code",
   "execution_count": null,
   "metadata": {},
   "outputs": [],
   "source": []
  },
  {
   "cell_type": "markdown",
   "metadata": {},
   "source": [
    "Your profit for the year equals contract revenue, minus costs.  Each contract gives you 300,000 in revenue.  Costs are 100,000 times $C^2$.\n",
    "\n",
    "Use R to compute the expected profit."
   ]
  },
  {
   "cell_type": "code",
   "execution_count": null,
   "metadata": {},
   "outputs": [],
   "source": []
  }
 ],
 "metadata": {
  "kernelspec": {
   "display_name": "R",
   "language": "R",
   "name": "ir"
  },
  "language_info": {
   "codemirror_mode": "r",
   "file_extension": ".r",
   "mimetype": "text/x-r-source",
   "name": "R",
   "pygments_lexer": "r",
   "version": "3.3.1"
  }
 },
 "nbformat": 4,
 "nbformat_minor": 2
}
